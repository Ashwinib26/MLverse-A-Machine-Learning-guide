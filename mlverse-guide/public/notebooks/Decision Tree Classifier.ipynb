{
 "cells": [
  {
   "cell_type": "markdown",
   "id": "f8382b9c-b4f8-40f5-82e8-e58cd128bfe9",
   "metadata": {},
   "source": [
    "### Decision Tree Classifier Demonstration (Tennis Dataset)"
   ]
  },
  {
   "cell_type": "code",
   "execution_count": null,
   "id": "920f937f-9c50-4c1e-8bea-216c26216bf3",
   "metadata": {},
   "outputs": [],
   "source": []
  },
  {
   "cell_type": "code",
   "execution_count": null,
   "id": "36c4310c-7d08-4b16-a565-0bab5c58b3a7",
   "metadata": {},
   "outputs": [],
   "source": [
    "import pandas as pd\n",
    "import numpy as np\n",
    "import matplotlib.pyplot as plt\n",
    "import seaborn as sns\n",
    "%matplotlib inline"
   ]
  },
  {
   "cell_type": "code",
   "execution_count": null,
   "id": "8e8e8ce3-ca74-4451-8c18-c33c9358e652",
   "metadata": {},
   "outputs": [],
   "source": [
    "df = pd.read_csv(\"C:/Users/cw/Downloads/tennis.csv\",skiprows=0)"
   ]
  },
  {
   "cell_type": "code",
   "execution_count": null,
   "id": "2728720c-b071-41eb-9f94-84ed47048693",
   "metadata": {},
   "outputs": [],
   "source": [
    "df.head(3)"
   ]
  },
  {
   "cell_type": "code",
   "execution_count": null,
   "id": "1f1a8711-adeb-4cb2-b6d7-9f96baee3fe9",
   "metadata": {},
   "outputs": [],
   "source": [
    "input = df.drop(\"PlayTennis\",axis=1)"
   ]
  },
  {
   "cell_type": "code",
   "execution_count": null,
   "id": "f70d457c-3d3f-411b-b469-fc315ab52df1",
   "metadata": {},
   "outputs": [],
   "source": [
    "target = df['PlayTennis']"
   ]
  },
  {
   "cell_type": "code",
   "execution_count": null,
   "id": "c87f5062-c86b-469e-98e9-3e4d8d4a5b5c",
   "metadata": {},
   "outputs": [],
   "source": [
    "input.head()"
   ]
  },
  {
   "cell_type": "code",
   "execution_count": null,
   "id": "10fff8cc-c578-491f-af86-e973b3f5d438",
   "metadata": {},
   "outputs": [],
   "source": [
    "target.head()"
   ]
  },
  {
   "cell_type": "markdown",
   "id": "0b7f42e3-3f95-4616-851e-ea59381474f7",
   "metadata": {},
   "source": [
    "Converting string data into numerical data for learning"
   ]
  },
  {
   "cell_type": "code",
   "execution_count": null,
   "id": "f6a657d5-d682-4471-9920-76252294ce4a",
   "metadata": {},
   "outputs": [],
   "source": [
    "from sklearn.preprocessing import LabelEncoder"
   ]
  },
  {
   "cell_type": "code",
   "execution_count": null,
   "id": "3dc49736-3d4a-4598-a612-6689c45ffc1d",
   "metadata": {},
   "outputs": [],
   "source": [
    "eOutlook = LabelEncoder()\n",
    "eTemp = LabelEncoder()\n",
    "eHumidity = LabelEncoder()\n",
    "eWind = LabelEncoder()"
   ]
  },
  {
   "cell_type": "code",
   "execution_count": null,
   "id": "96f05161-fd7f-4c91-9144-edf6ffd5a608",
   "metadata": {},
   "outputs": [],
   "source": [
    "input['Outlook_int'] = eOutlook.fit_transform(input['Outlook'])"
   ]
  },
  {
   "cell_type": "code",
   "execution_count": null,
   "id": "695f3fb8-78d8-4534-a0af-9eea8f2098bf",
   "metadata": {},
   "outputs": [],
   "source": [
    "input['Temp_int'] = eTemp.fit_transform(input['Temp'])"
   ]
  },
  {
   "cell_type": "code",
   "execution_count": null,
   "id": "202cb5f4-5d34-4c5c-ba10-7bcb41742825",
   "metadata": {},
   "outputs": [],
   "source": [
    "input['Humidity_int'] = eHumidity.fit_transform(input['Humidity'])"
   ]
  },
  {
   "cell_type": "code",
   "execution_count": null,
   "id": "f1e3baef-5411-4207-bf47-04d0ca8416ed",
   "metadata": {},
   "outputs": [],
   "source": [
    "input['Wind_int'] = eWind.fit_transform(input['Wind'])"
   ]
  },
  {
   "cell_type": "code",
   "execution_count": null,
   "id": "ba048b51-31c3-4368-8599-b85e93e14021",
   "metadata": {},
   "outputs": [],
   "source": [
    "input.head()"
   ]
  },
  {
   "cell_type": "code",
   "execution_count": null,
   "id": "d46935ec-64e4-4687-b46f-38dedf637957",
   "metadata": {},
   "outputs": [],
   "source": [
    "input_int = input.drop('Outlook',axis=1)\n",
    "input_int = input_int.drop('Temp',axis=1)\n",
    "input_int = input_int.drop('Humidity',axis=1)\n",
    "input_int = input_int.drop('Wind',axis=1)"
   ]
  },
  {
   "cell_type": "code",
   "execution_count": null,
   "id": "c5cf18ba-2284-4641-819b-0b76c67921f9",
   "metadata": {},
   "outputs": [],
   "source": [
    "input_int = input_int.drop('Day',axis=1)"
   ]
  },
  {
   "cell_type": "code",
   "execution_count": null,
   "id": "3d955260-03b0-4f5f-9ba4-3d1aeb969a41",
   "metadata": {},
   "outputs": [],
   "source": [
    "input_int.head()"
   ]
  },
  {
   "cell_type": "code",
   "execution_count": null,
   "id": "44627169-228f-4194-b454-3483e299d51a",
   "metadata": {},
   "outputs": [],
   "source": [
    "from sklearn import tree"
   ]
  },
  {
   "cell_type": "code",
   "execution_count": null,
   "id": "534ee5a7-50be-4d57-9a51-c09c109f3343",
   "metadata": {},
   "outputs": [],
   "source": [
    "model = tree.DecisionTreeClassifier()"
   ]
  },
  {
   "cell_type": "code",
   "execution_count": null,
   "id": "99415fb5-4128-47ab-818e-40390b9edbb8",
   "metadata": {},
   "outputs": [],
   "source": [
    "model.fit(input_int,target)   #training"
   ]
  },
  {
   "cell_type": "code",
   "execution_count": null,
   "id": "fa2153ea-de86-407c-b499-e67ff0d2c354",
   "metadata": {},
   "outputs": [],
   "source": [
    "model.score(input_int,target)    "
   ]
  },
  {
   "cell_type": "code",
   "execution_count": null,
   "id": "b7657446-a61a-409d-8329-e3a0cf5a2c1a",
   "metadata": {},
   "outputs": [],
   "source": [
    "model.predict([[0,1,0,1]])    #prediction"
   ]
  },
  {
   "cell_type": "code",
   "execution_count": null,
   "id": "ce899a25-c0ef-4bfa-a995-4fa682a0066f",
   "metadata": {},
   "outputs": [],
   "source": []
  }
 ],
 "metadata": {
  "kernelspec": {
   "display_name": "Python 3 (ipykernel)",
   "language": "python",
   "name": "python3"
  },
  "language_info": {
   "codemirror_mode": {
    "name": "ipython",
    "version": 3
   },
   "file_extension": ".py",
   "mimetype": "text/x-python",
   "name": "python",
   "nbconvert_exporter": "python",
   "pygments_lexer": "ipython3",
   "version": "3.11.7"
  }
 },
 "nbformat": 4,
 "nbformat_minor": 5
}
